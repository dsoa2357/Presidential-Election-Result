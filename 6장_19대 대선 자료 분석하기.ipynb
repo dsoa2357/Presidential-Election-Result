{
 "cells": [
  {
   "cell_type": "markdown",
   "metadata": {},
   "source": [
    "# 6장 19대 대선 자료 분석하기\n",
    "\n",
    "* 이 책을 집필 완료한 후 선거관리위원회 홈페이지가 재보궐선거로 구성화면이 변경되었습니다.\n",
    "* 그러므로 일일이 진입하던 코드를 생략하고, 바로 19대 대통령 선거 결과를 확인할 수 있는 페이지 바로가기로 진입합니다.\n",
    "* 그리고 6-1, 6-2절의 코드는 바뀝니다. 그러나 6-3절부터 학습하시는 경우라면 Github에서 배포하는 데이터를 사용하시면 됩니다.\n",
    "* 아래 6-1, 6-2절의 코드가 변경되는 것을 양해해 주시기 바랍니다."
   ]
  },
  {
   "cell_type": "markdown",
   "metadata": {},
   "source": [
    "## 6-1. Selenium과 Beautiful Soup을 이용한 데이터 획득 준비 작업"
   ]
  },
  {
   "cell_type": "code",
   "execution_count": 1,
   "metadata": {},
   "outputs": [],
   "source": [
    "import pandas as pd\n",
    "import numpy as np\n",
    "\n",
    "import platform\n",
    "import matplotlib.pyplot as plt\n",
    "\n",
    "%matplotlib inline\n",
    "\n",
    "path = 'c://Windows/Fonts/malgun.ttf'\n",
    "from matplotlib import font_manager, rc\n",
    "if platform.system() == 'Darwin':\n",
    "    rc('font', family='AppleGothic')\n",
    "elif platform.system() == 'Windows':\n",
    "    font_name = font_manager.FontProperties(fname=path).get_name()\n",
    "    rc('font', family=font_name)\n",
    "else:\n",
    "    print('Unknown system... sorry~~~~')\n",
    "\n",
    "plt.rcParams['axes.unicode_minus'] = False"
   ]
  },
  {
   "cell_type": "code",
   "execution_count": 2,
   "metadata": {},
   "outputs": [],
   "source": [
    "from selenium import webdriver\n",
    "import time"
   ]
  },
  {
   "cell_type": "code",
   "execution_count": 5,
   "metadata": {},
   "outputs": [],
   "source": [
    "# 크롬 드라이버를 사용하여 크롬 창을 연다.\n",
    "driver = webdriver.Chrome('C:/Users/Slim3 15IIL/Desktop/0-2020데청캠/driver/chromedriver.exe')\n",
    "\n",
    "# 분야별정보 -> 역대선거통계 -> 투개표 -> 개표현황(읍면동별)\n",
    "driver.get(\"http://info.nec.go.kr/main/showDocument.xhtml?electionId=0000000000&topMenuId=VC&secondMenuId=VCCP04\")"
   ]
  },
  {
   "cell_type": "code",
   "execution_count": 6,
   "metadata": {},
   "outputs": [],
   "source": [
    "# '대통령선거' 항목 클릭\n",
    "driver.find_element_by_id(\"electionType1\").click()"
   ]
  },
  {
   "cell_type": "code",
   "execution_count": 7,
   "metadata": {},
   "outputs": [],
   "source": [
    "driver.find_element_by_id(\"electionName\").send_keys(\"제19대\")"
   ]
  },
  {
   "cell_type": "code",
   "execution_count": 47,
   "metadata": {},
   "outputs": [],
   "source": [
    "driver.find_element_by_id(\"electionCode\").send_keys(\"대통령선거\")"
   ]
  },
  {
   "cell_type": "code",
   "execution_count": 48,
   "metadata": {},
   "outputs": [
    {
     "data": {
      "text/plain": [
       "['서울특별시',\n",
       " '부산광역시',\n",
       " '대구광역시',\n",
       " '인천광역시',\n",
       " '광주광역시',\n",
       " '대전광역시',\n",
       " '울산광역시',\n",
       " '세종특별자치시',\n",
       " '경기도',\n",
       " '강원도',\n",
       " '충청북도',\n",
       " '충청남도',\n",
       " '전라북도',\n",
       " '전라남도',\n",
       " '경상북도',\n",
       " '경상남도',\n",
       " '제주특별자치도']"
      ]
     },
     "execution_count": 48,
     "metadata": {},
     "output_type": "execute_result"
    }
   ],
   "source": [
    "# 'option'에 있는 시도 항목들을 전부 가지고 온다.\n",
    "sido_list_raw = driver.find_element_by_xpath(\"\"\"//*[@id=\"cityCode\"]\"\"\")  # xpath 코드 복사\n",
    "sido_list = sido_list_raw.find_elements_by_tag_name(\"option\")\n",
    "sido_names_values = [option.text for option in sido_list]\n",
    "sido_names_values = sido_names_values[1:]\n",
    "sido_names_values"
   ]
  },
  {
   "cell_type": "code",
   "execution_count": 53,
   "metadata": {},
   "outputs": [
    {
     "data": {
      "text/plain": [
       "['종로구',\n",
       " '중구',\n",
       " '용산구',\n",
       " '성동구',\n",
       " '광진구',\n",
       " '동대문구',\n",
       " '중랑구',\n",
       " '성북구',\n",
       " '강북구',\n",
       " '도봉구',\n",
       " '노원구',\n",
       " '은평구',\n",
       " '서대문구',\n",
       " '마포구',\n",
       " '양천구',\n",
       " '강서구',\n",
       " '구로구',\n",
       " '금천구',\n",
       " '영등포구',\n",
       " '동작구',\n",
       " '관악구',\n",
       " '서초구',\n",
       " '강남구',\n",
       " '송파구',\n",
       " '강동구']"
      ]
     },
     "execution_count": 53,
     "metadata": {},
     "output_type": "execute_result"
    }
   ],
   "source": [
    "# 각 시도의 각 구 정보가 나온다.\n",
    "sigun_list_raw = driver.find_element_by_xpath(\"\"\"//*[@id=\"townCode\"]\"\"\")  # xpath 코드 복사\n",
    "sigun_list = sigun_list_raw.find_elements_by_tag_name(\"option\")\n",
    "sigun_names_values = [option.text for option in sigun_list]\n",
    "sigun_names_values = sigun_names_values[1:]\n",
    "sigun_names_values"
   ]
  },
  {
   "cell_type": "code",
   "execution_count": 54,
   "metadata": {},
   "outputs": [],
   "source": [
    "driver.find_element_by_xpath(\"\"\"//*[@id=\"searchBtn\"]\"\"\").click()  # 종로구 선택 후 검색 xpath 코드 입력"
   ]
  },
  {
   "cell_type": "code",
   "execution_count": 55,
   "metadata": {},
   "outputs": [],
   "source": [
    "# beautifulsoup을 사용해서 현재 페이지 파싱\n",
    "from bs4 import BeautifulSoup\n",
    "\n",
    "html = driver.page_source\n",
    "soup = BeautifulSoup(html, 'html.parser')\n",
    "#soup"
   ]
  },
  {
   "cell_type": "code",
   "execution_count": 88,
   "metadata": {},
   "outputs": [
    {
     "data": {
      "text/plain": [
       "[<td class=\"alignR\">102,566</td>,\n",
       " <td class=\"alignR\">42,512</td>,\n",
       " <td class=\"alignR\">22,325</td>,\n",
       " <td class=\"alignR\">22,313</td>]"
      ]
     },
     "execution_count": 88,
     "metadata": {},
     "output_type": "execute_result"
    }
   ],
   "source": [
    "# alignR을 모두 찾아서 1~4번째까지 출력\n",
    "tmp = soup.find_all('td', 'alignR')\n",
    "tmp[1:5]"
   ]
  },
  {
   "cell_type": "markdown",
   "metadata": {},
   "source": [
    "## 6-2. 19대 대선 개표 결과 데이터 획득하기"
   ]
  },
  {
   "cell_type": "code",
   "execution_count": 89,
   "metadata": {},
   "outputs": [
    {
     "name": "stderr",
     "output_type": "stream",
     "text": [
      "C:\\Users\\Slim3 15IIL\\anaconda3\\lib\\site-packages\\ipykernel_launcher.py:7: TqdmDeprecationWarning: This function will be removed in tqdm==5.0.0\n",
      "Please use `tqdm.notebook.tqdm` instead of `tqdm.tqdm_notebook`\n",
      "  import sys\n"
     ]
    },
    {
     "data": {
      "application/vnd.jupyter.widget-view+json": {
       "model_id": "bbbe2d4176dd4d2fb7c203a92b79cd32",
       "version_major": 2,
       "version_minor": 0
      },
      "text/plain": [
       "HBox(children=(FloatProgress(value=0.0, max=17.0), HTML(value='')))"
      ]
     },
     "metadata": {},
     "output_type": "display_data"
    },
    {
     "name": "stdout",
     "output_type": "stream",
     "text": [
      "\n"
     ]
    }
   ],
   "source": [
    "from tqdm import tqdm_notebook\n",
    "# 시도/시군 목록을 넣기 위한 리스트를 생성해 준다.\n",
    "sido_name = []\n",
    "sigun_name = []\n",
    "\n",
    "# 시도 목록을 모두 입력칸에 반복해서 넣어준다.\n",
    "for sido_value in tqdm_notebook(sido_names_values):\n",
    "    element = driver.find_element_by_id(\"cityCode\")\n",
    "    element.send_keys(sido_value)\n",
    "    \n",
    "    time.sleep(1)\n",
    "    \n",
    "    # 시군 목록을 모두 입력칸에 반복해서 넣어준다.\n",
    "    sigun_list_raw = driver.find_element_by_xpath(\"\"\"//*[@id=\"townCode\"]\"\"\")\n",
    "    sigun_list = sigun_list_raw.find_elements_by_tag_name(\"option\")\n",
    "    \n",
    "    # 시군 목록에서 나온 값들을 출력\n",
    "    sigun_names_values = [option.text for option in sigun_list]\n",
    "    sigun_names_values = sigun_names_values[1:]\n",
    "    \n",
    "    # 시군 목록에서 나온 값들을 리스트에 추가해 준다.\n",
    "    for sigun_value in sigun_names_values:\n",
    "        sido_name.append(sido_value)\n",
    "        sigun_name.append(sigun_value)"
   ]
  },
  {
   "cell_type": "code",
   "execution_count": 90,
   "metadata": {},
   "outputs": [
    {
     "data": {
      "text/html": [
       "<div>\n",
       "<style scoped>\n",
       "    .dataframe tbody tr th:only-of-type {\n",
       "        vertical-align: middle;\n",
       "    }\n",
       "\n",
       "    .dataframe tbody tr th {\n",
       "        vertical-align: top;\n",
       "    }\n",
       "\n",
       "    .dataframe thead th {\n",
       "        text-align: right;\n",
       "    }\n",
       "</style>\n",
       "<table border=\"1\" class=\"dataframe\">\n",
       "  <thead>\n",
       "    <tr style=\"text-align: right;\">\n",
       "      <th></th>\n",
       "      <th>광역시도</th>\n",
       "      <th>시군</th>\n",
       "    </tr>\n",
       "  </thead>\n",
       "  <tbody>\n",
       "    <tr>\n",
       "      <th>0</th>\n",
       "      <td>서울특별시</td>\n",
       "      <td>종로구</td>\n",
       "    </tr>\n",
       "    <tr>\n",
       "      <th>1</th>\n",
       "      <td>서울특별시</td>\n",
       "      <td>중구</td>\n",
       "    </tr>\n",
       "    <tr>\n",
       "      <th>2</th>\n",
       "      <td>서울특별시</td>\n",
       "      <td>용산구</td>\n",
       "    </tr>\n",
       "    <tr>\n",
       "      <th>3</th>\n",
       "      <td>서울특별시</td>\n",
       "      <td>성동구</td>\n",
       "    </tr>\n",
       "    <tr>\n",
       "      <th>4</th>\n",
       "      <td>서울특별시</td>\n",
       "      <td>광진구</td>\n",
       "    </tr>\n",
       "  </tbody>\n",
       "</table>\n",
       "</div>"
      ],
      "text/plain": [
       "    광역시도   시군\n",
       "0  서울특별시  종로구\n",
       "1  서울특별시   중구\n",
       "2  서울특별시  용산구\n",
       "3  서울특별시  성동구\n",
       "4  서울특별시  광진구"
      ]
     },
     "execution_count": 90,
     "metadata": {},
     "output_type": "execute_result"
    }
   ],
   "source": [
    "# 각 값들을 데이터프레임으로 만들어 준다.\n",
    "election_result = pd.DataFrame({'광역시도':sido_name, '시군':sigun_name})\n",
    "election_result.head()\n",
    "#len(election_result)"
   ]
  },
  {
   "cell_type": "code",
   "execution_count": 91,
   "metadata": {},
   "outputs": [],
   "source": [
    "# 투표율을 얻기 위한 함수 생성\n",
    "def get_vote_info(n):\n",
    "    # 페이지 html 소스를 읽어온다.\n",
    "    html = driver.page_source\n",
    "    soup = BeautifulSoup(html, 'lxml')\n",
    "    \n",
    "    # 'td' 태그에 있는 값들을 불러오고 ','을 삭제한다.\n",
    "    tmp = soup.find_all('td', 'alignR')\n",
    "    tmp_values = [float(tmp_val.get_text().replace(',', '')) for tmp_val in tmp[1:5]]\n",
    "    \n",
    "    # 각 후보들의 득표 값들을 알맞게 넣어준다.\n",
    "    pop[n] = tmp_values[0]\n",
    "    moon[n] = tmp_values[1]\n",
    "    hong[n] = tmp_values[2]\n",
    "    ahn[n] = tmp_values[3]"
   ]
  },
  {
   "cell_type": "code",
   "execution_count": 92,
   "metadata": {},
   "outputs": [],
   "source": [
    "import numpy as np\n",
    "\n",
    "# 값을 불러올 때, 없으면 nan 처리한다.\n",
    "def fail_procedure(n):\n",
    "    pop[n] = np.nan\n",
    "    moon[n] = np.nan\n",
    "    hong[n] = np.nan\n",
    "    ahn[n] = np.nan"
   ]
  },
  {
   "cell_type": "code",
   "execution_count": 93,
   "metadata": {},
   "outputs": [
    {
     "data": {
      "text/plain": [
       "(250, 250, 250, 250)"
      ]
     },
     "execution_count": 93,
     "metadata": {},
     "output_type": "execute_result"
    }
   ],
   "source": [
    "# nan 처리된 값들을 계산한다.\n",
    "pop = [np.nan]*len(election_result)\n",
    "moon = [np.nan]*len(election_result)\n",
    "hong = [np.nan]*len(election_result)\n",
    "ahn = [np.nan]*len(election_result)\n",
    "\n",
    "len(pop), len(moon), len(hong), len(ahn)"
   ]
  },
  {
   "cell_type": "code",
   "execution_count": 96,
   "metadata": {},
   "outputs": [
    {
     "name": "stderr",
     "output_type": "stream",
     "text": [
      "C:\\Users\\Slim3 15IIL\\anaconda3\\lib\\site-packages\\ipykernel_launcher.py:1: TqdmDeprecationWarning: This function will be removed in tqdm==5.0.0\n",
      "Please use `tqdm.notebook.tqdm` instead of `tqdm.tqdm_notebook`\n",
      "  \"\"\"Entry point for launching an IPython kernel.\n"
     ]
    },
    {
     "data": {
      "application/vnd.jupyter.widget-view+json": {
       "model_id": "bcbe036587a140f992eb9b96e5592811",
       "version_major": 2,
       "version_minor": 0
      },
      "text/plain": [
       "HBox(children=(FloatProgress(value=0.0, max=250.0), HTML(value='')))"
      ]
     },
     "metadata": {},
     "output_type": "display_data"
    },
    {
     "name": "stdout",
     "output_type": "stream",
     "text": [
      "--- Error ---\n",
      "--- Error ---\n",
      "--- Error ---\n",
      "--- Error ---\n",
      "--- Error ---\n",
      "--- Error ---\n",
      "--- Error ---\n",
      "--- Error ---\n",
      "--- Error ---\n",
      "--- Error ---\n",
      "--- Error ---\n",
      "--- Error ---\n",
      "--- Error ---\n",
      "--- Error ---\n",
      "--- Error ---\n",
      "--- Error ---\n",
      "--- Error ---\n",
      "--- Error ---\n",
      "--- Error ---\n",
      "--- Error ---\n",
      "--- Error ---\n",
      "--- Error ---\n",
      "--- Error ---\n",
      "--- Error ---\n",
      "--- Error ---\n",
      "--- Error ---\n",
      "--- Error ---\n",
      "--- Error ---\n",
      "--- Error ---\n",
      "--- Error ---\n",
      "--- Error ---\n",
      "--- Error ---\n",
      "--- Error ---\n",
      "--- Error ---\n",
      "--- Error ---\n",
      "--- Error ---\n",
      "--- Error ---\n",
      "--- Error ---\n",
      "--- Error ---\n",
      "--- Error ---\n",
      "--- Error ---\n",
      "--- Error ---\n",
      "--- Error ---\n",
      "--- Error ---\n",
      "--- Error ---\n",
      "--- Error ---\n",
      "--- Error ---\n",
      "--- Error ---\n",
      "--- Error ---\n",
      "--- Error ---\n",
      "--- Error ---\n",
      "--- Error ---\n",
      "--- Error ---\n",
      "--- Error ---\n",
      "--- Error ---\n",
      "--- Error ---\n",
      "--- Error ---\n",
      "--- Error ---\n",
      "--- Error ---\n",
      "--- Error ---\n",
      "--- Error ---\n",
      "--- Error ---\n",
      "--- Error ---\n",
      "--- Error ---\n",
      "--- Error ---\n",
      "--- Error ---\n",
      "--- Error ---\n",
      "--- Error ---\n",
      "--- Error ---\n",
      "--- Error ---\n",
      "--- Error ---\n",
      "--- Error ---\n",
      "--- Error ---\n",
      "--- Error ---\n",
      "--- Error ---\n",
      "--- Error ---\n",
      "--- Error ---\n",
      "--- Error ---\n",
      "--- Error ---\n",
      "--- Error ---\n",
      "--- Error ---\n",
      "--- Error ---\n",
      "--- Error ---\n",
      "--- Error ---\n",
      "--- Error ---\n",
      "--- Error ---\n",
      "--- Error ---\n",
      "--- Error ---\n",
      "--- Error ---\n",
      "--- Error ---\n",
      "--- Error ---\n",
      "--- Error ---\n",
      "--- Error ---\n",
      "--- Error ---\n",
      "--- Error ---\n",
      "--- Error ---\n",
      "\n"
     ]
    }
   ],
   "source": [
    "for n in tqdm_notebook(election_result.index):\n",
    "    # 에러가 나면 except 구문을 실행\n",
    "    try:\n",
    "        # 각 항목들에 값을 넣어주는 구문\n",
    "        element = driver.find_element_by_id(\"cityCode\")\n",
    "        element.send_keys(election_result['광역시도'][n])\n",
    "        \n",
    "        time.sleep(0.5)\n",
    "        \n",
    "        element = driver.find_element_by_id(\"townCode\")\n",
    "        element.send_keys(election_result['시군'][n])\n",
    "        \n",
    "        driver.find_element_by_xpath(\"\"\"//*[@id=\"searchBtn\"]\"\"\").click()  # 검색bar\n",
    "        \n",
    "        time.sleep(0.5)\n",
    "        \n",
    "        get_vote_info(n)\n",
    "\n",
    "    except:\n",
    "        print('--- Error ---')\n",
    "        fail_procedure(n)"
   ]
  },
  {
   "cell_type": "code",
   "execution_count": 97,
   "metadata": {},
   "outputs": [
    {
     "data": {
      "text/html": [
       "<div>\n",
       "<style scoped>\n",
       "    .dataframe tbody tr th:only-of-type {\n",
       "        vertical-align: middle;\n",
       "    }\n",
       "\n",
       "    .dataframe tbody tr th {\n",
       "        vertical-align: top;\n",
       "    }\n",
       "\n",
       "    .dataframe thead th {\n",
       "        text-align: right;\n",
       "    }\n",
       "</style>\n",
       "<table border=\"1\" class=\"dataframe\">\n",
       "  <thead>\n",
       "    <tr style=\"text-align: right;\">\n",
       "      <th></th>\n",
       "      <th>광역시도</th>\n",
       "      <th>시군</th>\n",
       "      <th>pop</th>\n",
       "      <th>moon</th>\n",
       "      <th>hong</th>\n",
       "      <th>ahn</th>\n",
       "    </tr>\n",
       "  </thead>\n",
       "  <tbody>\n",
       "    <tr>\n",
       "      <th>0</th>\n",
       "      <td>서울특별시</td>\n",
       "      <td>종로구</td>\n",
       "      <td>102566.0</td>\n",
       "      <td>42512.0</td>\n",
       "      <td>22325.0</td>\n",
       "      <td>22313.0</td>\n",
       "    </tr>\n",
       "    <tr>\n",
       "      <th>1</th>\n",
       "      <td>서울특별시</td>\n",
       "      <td>중구</td>\n",
       "      <td>82852.0</td>\n",
       "      <td>34062.0</td>\n",
       "      <td>17901.0</td>\n",
       "      <td>19372.0</td>\n",
       "    </tr>\n",
       "    <tr>\n",
       "      <th>2</th>\n",
       "      <td>서울특별시</td>\n",
       "      <td>용산구</td>\n",
       "      <td>148157.0</td>\n",
       "      <td>58081.0</td>\n",
       "      <td>35230.0</td>\n",
       "      <td>32109.0</td>\n",
       "    </tr>\n",
       "    <tr>\n",
       "      <th>3</th>\n",
       "      <td>서울특별시</td>\n",
       "      <td>성동구</td>\n",
       "      <td>203175.0</td>\n",
       "      <td>86686.0</td>\n",
       "      <td>40566.0</td>\n",
       "      <td>45674.0</td>\n",
       "    </tr>\n",
       "    <tr>\n",
       "      <th>4</th>\n",
       "      <td>서울특별시</td>\n",
       "      <td>광진구</td>\n",
       "      <td>240030.0</td>\n",
       "      <td>105512.0</td>\n",
       "      <td>46368.0</td>\n",
       "      <td>52824.0</td>\n",
       "    </tr>\n",
       "  </tbody>\n",
       "</table>\n",
       "</div>"
      ],
      "text/plain": [
       "    광역시도   시군       pop      moon     hong      ahn\n",
       "0  서울특별시  종로구  102566.0   42512.0  22325.0  22313.0\n",
       "1  서울특별시   중구   82852.0   34062.0  17901.0  19372.0\n",
       "2  서울특별시  용산구  148157.0   58081.0  35230.0  32109.0\n",
       "3  서울특별시  성동구  203175.0   86686.0  40566.0  45674.0\n",
       "4  서울특별시  광진구  240030.0  105512.0  46368.0  52824.0"
      ]
     },
     "execution_count": 97,
     "metadata": {},
     "output_type": "execute_result"
    }
   ],
   "source": [
    "election_result['pop'] = pop\n",
    "election_result['moon'] = moon\n",
    "election_result['hong'] = hong\n",
    "election_result['ahn'] = ahn\n",
    "\n",
    "election_result.head()"
   ]
  },
  {
   "cell_type": "code",
   "execution_count": 98,
   "metadata": {},
   "outputs": [
    {
     "name": "stderr",
     "output_type": "stream",
     "text": [
      "C:\\Users\\Slim3 15IIL\\anaconda3\\lib\\site-packages\\ipykernel_launcher.py:4: TqdmDeprecationWarning: This function will be removed in tqdm==5.0.0\n",
      "Please use `tqdm.notebook.tqdm` instead of `tqdm.tqdm_notebook`\n",
      "  after removing the cwd from sys.path.\n"
     ]
    },
    {
     "data": {
      "application/vnd.jupyter.widget-view+json": {
       "model_id": "ed93f697e07749bda78655fa567e02ef",
       "version_major": 2,
       "version_minor": 0
      },
      "text/plain": [
       "HBox(children=(FloatProgress(value=0.0, max=96.0), HTML(value='')))"
      ]
     },
     "metadata": {},
     "output_type": "display_data"
    },
    {
     "name": "stdout",
     "output_type": "stream",
     "text": [
      "--- Error ---\n",
      "--- Error ---\n",
      "--- Error ---\n",
      "--- Error ---\n",
      "--- Error ---\n",
      "--- Error ---\n",
      "--- Error ---\n",
      "--- Error ---\n",
      "--- Error ---\n",
      "--- Error ---\n",
      "--- Error ---\n",
      "--- Error ---\n",
      "--- Error ---\n",
      "--- Error ---\n",
      "--- Error ---\n",
      "--- Error ---\n",
      "--- Error ---\n",
      "--- Error ---\n",
      "--- Error ---\n",
      "--- Error ---\n",
      "--- Error ---\n",
      "--- Error ---\n",
      "--- Error ---\n",
      "--- Error ---\n",
      "--- Error ---\n",
      "--- Error ---\n",
      "--- Error ---\n",
      "--- Error ---\n",
      "--- Error ---\n",
      "--- Error ---\n",
      "--- Error ---\n",
      "--- Error ---\n",
      "--- Error ---\n",
      "--- Error ---\n",
      "--- Error ---\n",
      "--- Error ---\n",
      "--- Error ---\n",
      "--- Error ---\n",
      "--- Error ---\n",
      "--- Error ---\n",
      "--- Error ---\n",
      "--- Error ---\n",
      "--- Error ---\n",
      "--- Error ---\n",
      "--- Error ---\n",
      "--- Error ---\n",
      "--- Error ---\n",
      "--- Error ---\n",
      "--- Error ---\n",
      "--- Error ---\n",
      "--- Error ---\n",
      "\n"
     ]
    }
   ],
   "source": [
    "# 에러가 난 부분들을 모아준다.\n",
    "re_try_index = election_result[election_result['pop'].isnull()].index\n",
    "\n",
    "for n in tqdm_notebook(re_try_index):\n",
    "    try:\n",
    "        element = driver.find_element_by_id(\"cityCode\")\n",
    "        element.send_keys(election_result['광역시도'][n])\n",
    "        \n",
    "        time.sleep(0.5)\n",
    "        \n",
    "        element = driver.find_element_by_id(\"townCode\")\n",
    "        element.send_keys(election_result['시군'][n])\n",
    "        \n",
    "        driver.find_element_by_xpath(\"\"\"//*[@id=\"searchBtn\"]\"\"\").click()\n",
    "        \n",
    "        time.sleep(0.5)\n",
    "        \n",
    "        get_vote_info(n)\n",
    "\n",
    "    except:\n",
    "        print('--- Error ---')\n",
    "        fail_procedure(n)"
   ]
  },
  {
   "cell_type": "code",
   "execution_count": 99,
   "metadata": {},
   "outputs": [
    {
     "data": {
      "text/html": [
       "<div>\n",
       "<style scoped>\n",
       "    .dataframe tbody tr th:only-of-type {\n",
       "        vertical-align: middle;\n",
       "    }\n",
       "\n",
       "    .dataframe tbody tr th {\n",
       "        vertical-align: top;\n",
       "    }\n",
       "\n",
       "    .dataframe thead th {\n",
       "        text-align: right;\n",
       "    }\n",
       "</style>\n",
       "<table border=\"1\" class=\"dataframe\">\n",
       "  <thead>\n",
       "    <tr style=\"text-align: right;\">\n",
       "      <th></th>\n",
       "      <th>광역시도</th>\n",
       "      <th>시군</th>\n",
       "      <th>pop</th>\n",
       "      <th>moon</th>\n",
       "      <th>hong</th>\n",
       "      <th>ahn</th>\n",
       "    </tr>\n",
       "  </thead>\n",
       "  <tbody>\n",
       "    <tr>\n",
       "      <th>0</th>\n",
       "      <td>서울특별시</td>\n",
       "      <td>종로구</td>\n",
       "      <td>102566.0</td>\n",
       "      <td>42512.0</td>\n",
       "      <td>22325.0</td>\n",
       "      <td>22313.0</td>\n",
       "    </tr>\n",
       "    <tr>\n",
       "      <th>1</th>\n",
       "      <td>서울특별시</td>\n",
       "      <td>중구</td>\n",
       "      <td>82852.0</td>\n",
       "      <td>34062.0</td>\n",
       "      <td>17901.0</td>\n",
       "      <td>19372.0</td>\n",
       "    </tr>\n",
       "    <tr>\n",
       "      <th>2</th>\n",
       "      <td>서울특별시</td>\n",
       "      <td>용산구</td>\n",
       "      <td>148157.0</td>\n",
       "      <td>58081.0</td>\n",
       "      <td>35230.0</td>\n",
       "      <td>32109.0</td>\n",
       "    </tr>\n",
       "    <tr>\n",
       "      <th>3</th>\n",
       "      <td>서울특별시</td>\n",
       "      <td>성동구</td>\n",
       "      <td>203175.0</td>\n",
       "      <td>86686.0</td>\n",
       "      <td>40566.0</td>\n",
       "      <td>45674.0</td>\n",
       "    </tr>\n",
       "    <tr>\n",
       "      <th>4</th>\n",
       "      <td>서울특별시</td>\n",
       "      <td>광진구</td>\n",
       "      <td>240030.0</td>\n",
       "      <td>105512.0</td>\n",
       "      <td>46368.0</td>\n",
       "      <td>52824.0</td>\n",
       "    </tr>\n",
       "  </tbody>\n",
       "</table>\n",
       "</div>"
      ],
      "text/plain": [
       "    광역시도   시군       pop      moon     hong      ahn\n",
       "0  서울특별시  종로구  102566.0   42512.0  22325.0  22313.0\n",
       "1  서울특별시   중구   82852.0   34062.0  17901.0  19372.0\n",
       "2  서울특별시  용산구  148157.0   58081.0  35230.0  32109.0\n",
       "3  서울특별시  성동구  203175.0   86686.0  40566.0  45674.0\n",
       "4  서울특별시  광진구  240030.0  105512.0  46368.0  52824.0"
      ]
     },
     "execution_count": 99,
     "metadata": {},
     "output_type": "execute_result"
    }
   ],
   "source": [
    "election_result['pop'] = pop\n",
    "election_result['moon'] = moon\n",
    "election_result['hong'] = hong\n",
    "election_result['ahn'] = ahn\n",
    "\n",
    "election_result.head()"
   ]
  },
  {
   "cell_type": "code",
   "execution_count": 100,
   "metadata": {},
   "outputs": [],
   "source": [
    "election_result.to_csv('C:/Users/Slim3 15IIL/Desktop/0-2020데청캠/data/06. election_result.csv', encoding='utf-8', sep=',')"
   ]
  },
  {
   "cell_type": "markdown",
   "metadata": {},
   "source": [
    "## 6-3. 각 후보의 득표율과 지역 ID 정리하기"
   ]
  },
  {
   "cell_type": "code",
   "execution_count": 102,
   "metadata": {},
   "outputs": [
    {
     "data": {
      "text/html": [
       "<div>\n",
       "<style scoped>\n",
       "    .dataframe tbody tr th:only-of-type {\n",
       "        vertical-align: middle;\n",
       "    }\n",
       "\n",
       "    .dataframe tbody tr th {\n",
       "        vertical-align: top;\n",
       "    }\n",
       "\n",
       "    .dataframe thead th {\n",
       "        text-align: right;\n",
       "    }\n",
       "</style>\n",
       "<table border=\"1\" class=\"dataframe\">\n",
       "  <thead>\n",
       "    <tr style=\"text-align: right;\">\n",
       "      <th></th>\n",
       "      <th>광역시도</th>\n",
       "      <th>시군</th>\n",
       "      <th>pop</th>\n",
       "      <th>moon</th>\n",
       "      <th>hong</th>\n",
       "      <th>ahn</th>\n",
       "    </tr>\n",
       "  </thead>\n",
       "  <tbody>\n",
       "    <tr>\n",
       "      <th>0</th>\n",
       "      <td>서울특별시</td>\n",
       "      <td>종로구</td>\n",
       "      <td>102566.0</td>\n",
       "      <td>42512.0</td>\n",
       "      <td>22325.0</td>\n",
       "      <td>22313.0</td>\n",
       "    </tr>\n",
       "    <tr>\n",
       "      <th>1</th>\n",
       "      <td>서울특별시</td>\n",
       "      <td>중구</td>\n",
       "      <td>82852.0</td>\n",
       "      <td>34062.0</td>\n",
       "      <td>17901.0</td>\n",
       "      <td>19372.0</td>\n",
       "    </tr>\n",
       "    <tr>\n",
       "      <th>2</th>\n",
       "      <td>서울특별시</td>\n",
       "      <td>용산구</td>\n",
       "      <td>148157.0</td>\n",
       "      <td>58081.0</td>\n",
       "      <td>35230.0</td>\n",
       "      <td>32109.0</td>\n",
       "    </tr>\n",
       "    <tr>\n",
       "      <th>3</th>\n",
       "      <td>서울특별시</td>\n",
       "      <td>성동구</td>\n",
       "      <td>203175.0</td>\n",
       "      <td>86686.0</td>\n",
       "      <td>40566.0</td>\n",
       "      <td>45674.0</td>\n",
       "    </tr>\n",
       "    <tr>\n",
       "      <th>4</th>\n",
       "      <td>서울특별시</td>\n",
       "      <td>광진구</td>\n",
       "      <td>240030.0</td>\n",
       "      <td>105512.0</td>\n",
       "      <td>46368.0</td>\n",
       "      <td>52824.0</td>\n",
       "    </tr>\n",
       "  </tbody>\n",
       "</table>\n",
       "</div>"
      ],
      "text/plain": [
       "    광역시도   시군       pop      moon     hong      ahn\n",
       "0  서울특별시  종로구  102566.0   42512.0  22325.0  22313.0\n",
       "1  서울특별시   중구   82852.0   34062.0  17901.0  19372.0\n",
       "2  서울특별시  용산구  148157.0   58081.0  35230.0  32109.0\n",
       "3  서울특별시  성동구  203175.0   86686.0  40566.0  45674.0\n",
       "4  서울특별시  광진구  240030.0  105512.0  46368.0  52824.0"
      ]
     },
     "execution_count": 102,
     "metadata": {},
     "output_type": "execute_result"
    }
   ],
   "source": [
    "# csv 파일 읽어오기\n",
    "election_result = pd.read_csv('C:/Users/Slim3 15IIL/Desktop/0-2020데청캠/data/06. election_result.csv', encoding='utf-8', index_col=0)\n",
    "election_result.head()"
   ]
  },
  {
   "cell_type": "code",
   "execution_count": 103,
   "metadata": {},
   "outputs": [],
   "source": [
    "# '광역시도' 이름을 정리한다.\n",
    "sido_candi = election_result['광역시도']\n",
    "sido_candi = [name[:2] if name[:2] in ['서울', '부산', '대구', '광주', '인천', '대전', '울산']\n",
    "                         else '' for name in sido_candi]"
   ]
  },
  {
   "cell_type": "code",
   "execution_count": 104,
   "metadata": {},
   "outputs": [],
   "source": [
    "# '시구' 이름을 정리하는 함수를 지정해 준다.\n",
    "def cut_char_sigu(name):\n",
    "    return name if len(name)==2 else name[:-1]"
   ]
  },
  {
   "cell_type": "code",
   "execution_count": null,
   "metadata": {},
   "outputs": [],
   "source": []
  },
  {
   "cell_type": "code",
   "execution_count": null,
   "metadata": {},
   "outputs": [],
   "source": []
  },
  {
   "cell_type": "code",
   "execution_count": null,
   "metadata": {},
   "outputs": [],
   "source": []
  },
  {
   "cell_type": "code",
   "execution_count": null,
   "metadata": {},
   "outputs": [],
   "source": []
  },
  {
   "cell_type": "code",
   "execution_count": null,
   "metadata": {},
   "outputs": [],
   "source": []
  }
 ],
 "metadata": {
  "kernelspec": {
   "display_name": "Python 3",
   "language": "python",
   "name": "python3"
  },
  "language_info": {
   "codemirror_mode": {
    "name": "ipython",
    "version": 3
   },
   "file_extension": ".py",
   "mimetype": "text/x-python",
   "name": "python",
   "nbconvert_exporter": "python",
   "pygments_lexer": "ipython3",
   "version": "3.7.6"
  }
 },
 "nbformat": 4,
 "nbformat_minor": 4
}
